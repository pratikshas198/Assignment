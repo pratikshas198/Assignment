{
 "cells": [
  {
   "cell_type": "markdown",
   "id": "1c9ed693",
   "metadata": {},
   "source": [
    "## Knowledge Test"
   ]
  },
  {
   "cell_type": "code",
   "execution_count": 14,
   "id": "7229ce1d",
   "metadata": {},
   "outputs": [
    {
     "name": "stdout",
     "output_type": "stream",
     "text": [
      "0,1,1,2,3,5,8,13,21,34"
     ]
    }
   ],
   "source": [
    "#Q1. Write a function to print the fibonacci series.\n",
    "\n",
    "def fibonacci(no_of_terms):\n",
    "    a = 0\n",
    "    b = 1\n",
    "    print(f'{a},{b}',end='')\n",
    "    for i in range(no_of_terms-2) :\n",
    "        c = a+b\n",
    "        a = b\n",
    "        b = c\n",
    "        print(f',{c}',end='')\n",
    "        \n",
    "    \n",
    "fibonacci(10)"
   ]
  },
  {
   "cell_type": "code",
   "execution_count": 11,
   "id": "9d0db2d8",
   "metadata": {},
   "outputs": [
    {
     "name": "stdout",
     "output_type": "stream",
     "text": [
      "234 is not Armstrong\n",
      "153 is Armstrong\n"
     ]
    }
   ],
   "source": [
    "#Q2. What are armstrong numbers? Write a function if number is Armstron number or not.\n",
    "#Ans. Armstrong numbers are numbers whose sum of cube of single digits equals to number itself.\n",
    "#     Example : 153 --> 1**3 + 5**3 + 3**3 = 1+125+27 \n",
    "#     Therefore, 153 is Armstrong number.\n",
    "\n",
    "def isArmstrong(num):\n",
    "    str_num = str(num)\n",
    "    total = 0\n",
    "    for char in str_num :\n",
    "        total += int(char)**3\n",
    "    if total == num :\n",
    "        print(f'{num} is Armstrong')\n",
    "    else :\n",
    "        print(f'{num} is not Armstrong')\n",
    "        \n",
    "\n",
    "isArmstrong(234)\n",
    "isArmstrong(153)"
   ]
  },
  {
   "cell_type": "code",
   "execution_count": 7,
   "id": "716366cd",
   "metadata": {},
   "outputs": [
    {
     "name": "stdout",
     "output_type": "stream",
     "text": [
      "[100, 20, 30, 40, 50]\n"
     ]
    },
    {
     "ename": "TypeError",
     "evalue": "'tuple' object does not support item assignment",
     "output_type": "error",
     "traceback": [
      "\u001b[1;31m---------------------------------------------------------------------------\u001b[0m",
      "\u001b[1;31mTypeError\u001b[0m                                 Traceback (most recent call last)",
      "\u001b[1;32mC:\\Users\\PRATIK~1\\AppData\\Local\\Temp/ipykernel_13780/2085874307.py\u001b[0m in \u001b[0;36m<module>\u001b[1;34m\u001b[0m\n\u001b[0;32m      9\u001b[0m \u001b[0mprint\u001b[0m\u001b[1;33m(\u001b[0m\u001b[0mlst\u001b[0m\u001b[1;33m)\u001b[0m\u001b[1;33m\u001b[0m\u001b[1;33m\u001b[0m\u001b[0m\n\u001b[0;32m     10\u001b[0m \u001b[1;33m\u001b[0m\u001b[0m\n\u001b[1;32m---> 11\u001b[1;33m \u001b[0mtupl\u001b[0m\u001b[1;33m[\u001b[0m\u001b[1;36m0\u001b[0m\u001b[1;33m]\u001b[0m \u001b[1;33m=\u001b[0m \u001b[1;36m200\u001b[0m\u001b[1;33m\u001b[0m\u001b[1;33m\u001b[0m\u001b[0m\n\u001b[0m",
      "\u001b[1;31mTypeError\u001b[0m: 'tuple' object does not support item assignment"
     ]
    }
   ],
   "source": [
    "#Q3. Difference between list and tuple. Support your answer with coding exmple.\n",
    "#Ans. List is mutable and tuple is immutable. It means in tuple , the original object cannot be changed. \n",
    "#     So ,item assignment is not possible.\n",
    "\n",
    "lst = [10,20,30,40,50]\n",
    "tupl = (10,20,30,40,50)\n",
    "\n",
    "lst[0] = 100\n",
    "print(lst)\n",
    "\n",
    "tupl[0] = 200 # TypeError: 'tuple' object does not support item assignment"
   ]
  },
  {
   "cell_type": "code",
   "execution_count": 12,
   "id": "9e4327e5",
   "metadata": {},
   "outputs": [
    {
     "data": {
      "text/plain": [
       "200"
      ]
     },
     "execution_count": 12,
     "metadata": {},
     "output_type": "execute_result"
    }
   ],
   "source": [
    "#Q. WHat is python doc string?\n",
    "#Ans. Python doc string is a string used to document a python function which tells programmers about the implementation/use\n",
    "#     of it and details about its parameters and what the function returns.\n",
    "\n",
    "def multiplication(a,b):\n",
    "    \"\"\"\n",
    "    arguments :\n",
    "    a , b --> two numbers whose product is to be calculated\n",
    "    return :\n",
    "    result a*b\n",
    "    \"\"\"\n",
    "    return a*b\n",
    "\n",
    "\n",
    "multiplication(10,20)"
   ]
  },
  {
   "cell_type": "markdown",
   "id": "45f76663",
   "metadata": {},
   "source": [
    "## Reserch Test"
   ]
  },
  {
   "cell_type": "markdown",
   "id": "78d5a7a9",
   "metadata": {},
   "source": [
    "### Q. What is PEP 8?\n",
    "Ans. PEP stands for Python Enhancement Proposal.\n",
    "A PEP is a document that describes new features proposed for Python.\n",
    "PEP 8 is a document that provides guidelines and best practices on how to write Python code. \n",
    "The primary focus of PEP 8 is to improve the readability and consistency of Python code. It provides documentaion\n",
    "regarding Naming convention, code layout , indentation, comments, \n",
    "whitespaces in expressions and statements and programming recommendations.\n",
    "                    "
   ]
  },
  {
   "cell_type": "markdown",
   "id": "6409f683",
   "metadata": {},
   "source": [
    "## Q. Difference between range and xrange.\n",
    "## Ans.\n",
    "* In Python 2.x, range returns a list i.e. range(3) returns [0, 1, 2] while xrange returns a xrange object \n",
    "i. e., xrange(3) returns iterator object which generates number when needed.\n",
    "* range() provides a static list. xrange() reconstructs the sequence every time. \n",
    "* xrange() doesn’t support slices and other list methods. \n",
    "* The variable storing the range created by range() takes more memory as compared to the variable storing the range using xrange(). The advantage of xrange() is, it saves memory when the task is to iterate over a large range. \n",
    "\n",
    "* Note:\n",
    "In Python 3.x, the range function now does what xrange does in Python 2.x, \n",
    "So Python 3.x’s range function is xrange from Python 2.x. \n"
   ]
  },
  {
   "cell_type": "code",
   "execution_count": 14,
   "id": "6b600bfa",
   "metadata": {},
   "outputs": [
    {
     "name": "stdout",
     "output_type": "stream",
     "text": [
      "I am local variable\n",
      "global variable inside funct(): I am global variable\n",
      "global variable outside funct(): I am global variable\n"
     ]
    }
   ],
   "source": [
    "# Q. What are global and local variables. Support your answer with coding.\n",
    "# Ans.\n",
    "# Global --> Global variables are those which are not defined inside any function and have a global scope .\n",
    "# The global variables are those which are defined outside any function and which are accessible throughout the program \n",
    "# i.e. inside and outside of every function\n",
    "\n",
    "# Local --> Local variables are those which are defined inside a function and its scope is limited to that function only. \n",
    "# Local variables are those which are initialized inside a function and belongs only to that particular function. \n",
    "# It cannot be accessed anywhere outside the function.\n",
    "\n",
    "def funct():\n",
    "    local_var = 'I am local variable'\n",
    "    print(local_var)\n",
    "    print('global variable inside funct():',global_var)\n",
    "\n",
    "\n",
    "funct()\n",
    "global_var = 'I am global variable'\n",
    "print('global variable outside funct():',global_var)\n",
    "#print(local_var) # NameError: name 'local_var' is not defined"
   ]
  },
  {
   "cell_type": "markdown",
   "id": "a71124b8",
   "metadata": {},
   "source": [
    "## Q. Difference between Python 2 and Python 3.\n",
    "### Important differences between Python 2 and Python 3\n",
    "* Function print : The print keyword in Python 2 is replaced by the print() function in Python 3. \n",
    "                   Python 2 --> print 'Hello'\n",
    "                   Python 3 --> print('Hello')\n",
    "* Division of Integers : Python 3 --> Whenever two integers are divided, you get a float value. \n",
    "                         5/2 gives 2.5\n",
    "                         Python 2 --> When two integers are divided, you always provide integer value.\n",
    "                         5/2 gives 2\n",
    "* Unicode : Python 3 --> default storing of strings is Unicode.\n",
    "            Python 2 --> To store Unicode string value, we require to define them with “u”.\n",
    "            print u'string with unicode'\n",
    "* xrange() : xrange() is deprecated in Python 3. range() does what xrange() did in Python 2.\n",
    "* Error Handling : In python 3, ‘as’ keyword is required whereas in Pyhton 2 not required. "
   ]
  },
  {
   "cell_type": "code",
   "execution_count": 19,
   "id": "3fcbef29",
   "metadata": {},
   "outputs": [
    {
     "name": "stdout",
     "output_type": "stream",
     "text": [
      "AXA is mirror palindrome\n",
      "level is not mirror palindrome\n",
      "abc is not mirror palindrome\n",
      "0HI8IH0 is mirror palindrome\n",
      "AMM is not mirror palindrome\n"
     ]
    }
   ],
   "source": [
    "#Q. What are mirrored palindrome? WAP to check if string is mirror palindrome or not.\n",
    "# Mirrored Palindrome means a string which when seen through mirror or it's reflection in mirror is same as original string.\n",
    "# For string to be mirror palindrome , it should be palindrome first means reverse of string same as original string and\n",
    "# second the each character of string should be symmetrical.\n",
    "\n",
    "# Symmetrical characters : AHIMOTUVWXY08\n",
    "\n",
    "def mirror_palindrome(string):\n",
    "    mirror_set = {'A','H','I','M','O','T','U','V','W','X','Y','0','8'}\n",
    "    \n",
    "    if string == string[::-1]:\n",
    "        for char in string:\n",
    "            if char not in mirror_set:\n",
    "                print(f'{string} is not mirror palindrome')\n",
    "                break\n",
    "        else:\n",
    "            print(f'{string} is mirror palindrome')\n",
    "    else:\n",
    "        print(f'{string} is not mirror palindrome')\n",
    "          \n",
    "\n",
    "mirror_palindrome('AXA')\n",
    "mirror_palindrome('level')\n",
    "mirror_palindrome('abc')\n",
    "mirror_palindrome('0HI8IH0')\n",
    "mirror_palindrome('AMM')"
   ]
  },
  {
   "cell_type": "code",
   "execution_count": null,
   "id": "792a506f",
   "metadata": {},
   "outputs": [],
   "source": []
  }
 ],
 "metadata": {
  "kernelspec": {
   "display_name": "Python 3 (ipykernel)",
   "language": "python",
   "name": "python3"
  },
  "language_info": {
   "codemirror_mode": {
    "name": "ipython",
    "version": 3
   },
   "file_extension": ".py",
   "mimetype": "text/x-python",
   "name": "python",
   "nbconvert_exporter": "python",
   "pygments_lexer": "ipython3",
   "version": "3.9.7"
  }
 },
 "nbformat": 4,
 "nbformat_minor": 5
}
